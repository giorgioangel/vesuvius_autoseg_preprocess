{
 "cells": [
  {
   "cell_type": "code",
   "execution_count": null,
   "metadata": {},
   "outputs": [],
   "source": [
    "import blosc2\n",
    "import tifffile\n",
    "import os\n",
    "import re\n",
    "import math\n",
    "import numpy as np\n",
    "from tqdm import tqdm\n",
    "from utils import load_tifstack"
   ]
  },
  {
   "cell_type": "code",
   "execution_count": null,
   "metadata": {},
   "outputs": [],
   "source": [
    "def number_of_digits(n):\n",
    "    if n == 0:\n",
    "        return 1\n",
    "    return math.floor(math.log10(abs(n))) + 1"
   ]
  },
  {
   "cell_type": "code",
   "execution_count": null,
   "metadata": {},
   "outputs": [],
   "source": [
    "def parse_filename(filename):\n",
    "    pattern = r'chunk_z_y_x_(\\d+)_(\\d+)_(\\d+)\\.b2nd'\n",
    "    match = re.match(pattern, filename)\n",
    "    if match:\n",
    "        number_z, number_y, number_x = map(int, match.groups())\n",
    "        return number_z, number_y, number_x\n",
    "    return None, None, None"
   ]
  },
  {
   "cell_type": "code",
   "execution_count": null,
   "metadata": {},
   "outputs": [],
   "source": [
    "scroll = load_tifstack(\"../Scroll2.volpkg/volumes/20230210143520_grids\")\n",
    "digits = number_of_digits(scroll.shape[0])"
   ]
  },
  {
   "cell_type": "code",
   "execution_count": null,
   "metadata": {},
   "outputs": [],
   "source": [
    "folder_path = \"scroll2-denoised\"\n",
    "output_folder = \"scroll2-denoised/tiffs\""
   ]
  },
  {
   "cell_type": "code",
   "execution_count": null,
   "metadata": {},
   "outputs": [],
   "source": [
    "files = os.listdir(folder_path)\n",
    "chunk_files = [f for f in files if f.endswith('.b2nd')]\n",
    "# Create a list with the parsed numbers for each file\n",
    "file_info = [(f, *parse_filename(f)) for f in chunk_files]\n",
    "\n",
    "# Sort the files by number_z, number_y, number_x\n",
    "file_info.sort(key=lambda x: (x[1], x[2], x[3]))"
   ]
  },
  {
   "cell_type": "code",
   "execution_count": null,
   "metadata": {},
   "outputs": [],
   "source": [
    "current_z = None\n",
    "chunk_size = 800"
   ]
  },
  {
   "cell_type": "code",
   "execution_count": null,
   "metadata": {},
   "outputs": [],
   "source": [
    "for filename, number_z, number_y, number_x in tqdm(file_info):\n",
    "    filepath = os.path.join(folder_path, filename)\n",
    "    if current_z is None:\n",
    "        current_z = number_z\n",
    "        big_block = np.empty((chunk_size, scroll.shape[1], scroll.shape[2]), dtype=np.uint16)\n",
    "        #big_block = np.empty((chunk_size, scroll.shape[1], scroll.shape[2]), dtype=np.uint8)\n",
    "        print(big_block.shape)\n",
    "    if number_z == current_z:\n",
    "        chunk = blosc2.open(filepath, mode=\"r\")\n",
    "        big_block[:chunk.shape[0],number_y:number_y+chunk.shape[1],number_x:number_x+chunk.shape[2]] = chunk[:,:,:]\n",
    "    else:\n",
    "        print(f\"Flush {current_z}\")\n",
    "        for z_slice in range(0,big_block.shape[0]):\n",
    "            if digits == 4:\n",
    "                outpath = os.path.join(output_folder, f\"{current_z+z_slice:04d}.tif\")\n",
    "            elif digits == 5:\n",
    "                outpath = os.path.join(output_folder, f\"{current_z+z_slice:05d}.tif\")\n",
    "            tifffile.imwrite(outpath, big_block[z_slice], dtype=np.uint16)\n",
    "            #tifffile.imwrite(outpath, big_block[z_slice], dtype=np.uint8)\n",
    "        current_z = number_z\n",
    "        big_block = np.empty((chunk_size, scroll.shape[1], scroll.shape[2]), dtype=np.uint16)\n",
    "        #big_block = np.empty((chunk_size, scroll.shape[1], scroll.shape[2]), dtype=np.uint8)\n",
    "        chunk = blosc2.open(filepath, mode=\"r\")\n",
    "        big_block[:chunk.shape[0],number_y:number_y+chunk.shape[1],number_x:number_x+chunk.shape[2]] = chunk[:,:,:]\n",
    "        \n",
    "for z_slice in range(0,min(big_block.shape[0],scroll.shape[0]-current_z)):\n",
    "    if digits == 4:\n",
    "        outpath = os.path.join(output_folder, f\"{current_z+z_slice:04d}.tif\")\n",
    "    elif digits == 5:\n",
    "        outpath = os.path.join(output_folder, f\"{current_z+z_slice:05d}.tif\")\n",
    "    tifffile.imwrite(outpath, big_block[z_slice], dtype=np.uint16)\n",
    "    #tifffile.imwrite(outpath, big_block[z_slice], dtype=np.uint8)"
   ]
  }
 ],
 "metadata": {
  "language_info": {
   "name": "python"
  }
 },
 "nbformat": 4,
 "nbformat_minor": 2
}
